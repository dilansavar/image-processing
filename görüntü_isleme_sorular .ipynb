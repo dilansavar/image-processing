{
 "cells": [
  {
   "cell_type": "code",
   "execution_count": 1,
   "metadata": {
    "collapsed": true
   },
   "outputs": [],
   "source": [
    "import random\n",
    "import numpy as np"
   ]
  },
  {
   "cell_type": "code",
   "execution_count": 6,
   "metadata": {
    "collapsed": true
   },
   "outputs": [],
   "source": [
    "def matris_create_28_28_with_0_1():#a\n",
    "    my_matris=np.zeros((28,28))\n",
    "    for i in range(28):\n",
    "        for j in range(28):\n",
    "            my_matris[i,j]=random.randint(0,1)\n",
    "    return my_matris"
   ]
  },
  {
   "cell_type": "code",
   "execution_count": 10,
   "metadata": {
    "collapsed": true
   },
   "outputs": [],
   "source": [
    "def mbr_create_28_28_with_0_1(matrix_a):#b\n",
    "    m=matrix_a.shape[0]\n",
    "    n=matrix_a.shape[1]\n",
    "    x_min=m\n",
    "    x_max=0\n",
    "    y_min=n #başlangıç değerleri olası en olumsuz durum\n",
    "    y_max=0\n",
    "    \n",
    "    for x in range(m):\n",
    "        for y in range(n):\n",
    "            if(matrix_a[i,j]==1 and x_min>i):\n",
    "                x_min=i\n",
    "            if(matrix_a[i,j]==1 and x_max<i):\n",
    "                x_max=i\n",
    "            if(matrix_a[i,j]==1 and y_min>i):\n",
    "                y_min=i\n",
    "            if(matrix_a[i,j]==1 and y_min<i):\n",
    "                y_min=i\n",
    "    return (x_min,x_max,y_min,y_max)"
   ]
  },
  {
   "cell_type": "code",
   "execution_count": 11,
   "metadata": {
    "collapsed": true
   },
   "outputs": [],
   "source": [
    "def get_similarity(character_a,character_b):#c\n",
    "    m=character_a.shape[0]\n",
    "    n=character_a.shape[1]\n",
    "    my_similarity=0\n",
    "    for i in range(m):\n",
    "        for j in range(n):\n",
    "            my_similarity=my_similarity+character_a[i,j]*character_b[i,j]\n",
    "    return my_similarity\n",
    "    "
   ]
  },
  {
   "cell_type": "code",
   "execution_count": 13,
   "metadata": {
    "collapsed": false
   },
   "outputs": [
    {
     "data": {
      "text/plain": [
       "199.0"
      ]
     },
     "execution_count": 13,
     "metadata": {},
     "output_type": "execute_result"
    }
   ],
   "source": []
  },
  {
   "cell_type": "code",
   "execution_count": 19,
   "metadata": {
    "collapsed": true
   },
   "outputs": [],
   "source": [
    "def get_similarity_for_100_characters(kac_karakter=100):#d\n",
    "    characters=[]\n",
    "    for i in range(kac_karakter):\n",
    "        new_char=matris_create_28_28_with_0_1()\n",
    "        characters.append(new_char)\n",
    "    for i in range(kac_karakter):\n",
    "        benzerlik=get_similarity(characters[0],characters[1])\n",
    "        print('0..'+str(i)+' ',benzerlik)"
   ]
  },
  {
   "cell_type": "code",
   "execution_count": 20,
   "metadata": {
    "collapsed": false
   },
   "outputs": [
    {
     "name": "stdout",
     "output_type": "stream",
     "text": [
      "0..0  187.0\n",
      "0..1  187.0\n",
      "0..2  187.0\n",
      "0..3  187.0\n",
      "0..4  187.0\n",
      "0..5  187.0\n",
      "0..6  187.0\n",
      "0..7  187.0\n",
      "0..8  187.0\n",
      "0..9  187.0\n"
     ]
    }
   ],
   "source": [
    "c_1=matris_create_28_28_with_0_1()\n",
    "c_2=matris_create_28_28_with_0_1()\n",
    "get_similarity(c_1,c_2)\n",
    "get_similarity_for_100_characters(10)"
   ]
  },
  {
   "cell_type": "code",
   "execution_count": null,
   "metadata": {
    "collapsed": true
   },
   "outputs": [],
   "source": []
  }
 ],
 "metadata": {
  "kernelspec": {
   "display_name": "Python [default]",
   "language": "python",
   "name": "python3"
  },
  "language_info": {
   "codemirror_mode": {
    "name": "ipython",
    "version": 3
   },
   "file_extension": ".py",
   "mimetype": "text/x-python",
   "name": "python",
   "nbconvert_exporter": "python",
   "pygments_lexer": "ipython3",
   "version": "3.5.2"
  }
 },
 "nbformat": 4,
 "nbformat_minor": 1
}
